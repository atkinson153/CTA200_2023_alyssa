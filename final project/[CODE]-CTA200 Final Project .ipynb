{
 "cells": [
  {
   "cell_type": "code",
   "execution_count": null,
   "id": "02fb3e24",
   "metadata": {},
   "outputs": [],
   "source": [
    "import numpy as np\n",
    "import matplotlib.pyplot as plt\n",
    "import matplotlib\n",
    "from astropy import constants as const\n",
    "import astropy.units as u\n",
    "import math\n",
    "%matplotlib inline"
   ]
  },
  {
   "cell_type": "markdown",
   "id": "52b63617",
   "metadata": {},
   "source": [
    "Question 1 and 2 are meant to be by hand derivations and represented with LaTeX(see pdf)"
   ]
  },
  {
   "cell_type": "markdown",
   "id": "eab8e43c",
   "metadata": {},
   "source": [
    "Question 3: Solving the PRT equation"
   ]
  },
  {
   "cell_type": "code",
   "execution_count": null,
   "id": "44df93c1",
   "metadata": {},
   "outputs": [],
   "source": [
    "from sympy import Function, Derivative\n",
    "from sympy.abc import s # s is the independent variable\n",
    "from sympy import symbols, Eq, Function\n",
    "from sympy.solvers.ode.systems import dsolve_system\n",
    "from sympy import *"
   ]
  },
  {
   "cell_type": "code",
   "execution_count": null,
   "id": "007e2f53",
   "metadata": {},
   "outputs": [],
   "source": [
    "Q_v, U_v = symbols(\"Q_v U_v\", cls=Function)\n",
    "s, f_v = symbols(\"s , f_v\") #defines path and Faraday rotation\n"
   ]
  },
  {
   "cell_type": "code",
   "execution_count": null,
   "id": "641f0f9d",
   "metadata": {
    "scrolled": true
   },
   "outputs": [],
   "source": [
    "eqs = [Eq(Q_v(s).diff(s), (-f_v)*U_v(s)), Eq(U_v(s).diff(s), (f_v)*Q_v(s))] \n",
    "# defines the system of ODEs\n",
    "init_printing()\n",
    "eqs # shows the system"
   ]
  },
  {
   "cell_type": "code",
   "execution_count": null,
   "id": "dba36431",
   "metadata": {},
   "outputs": [],
   "source": [
    "# solving the system\n",
    "# general solution\n",
    "sol =dsolve_system(eqs)\n",
    "print(sol)\n",
    "init_printing()\n",
    "sol # prints out the solution to the system"
   ]
  },
  {
   "cell_type": "markdown",
   "id": "0bc7c5d7",
   "metadata": {},
   "source": [
    "Note: My supervisor told me in person to use the initial conditions Q_v(0)=U_v(0)=0"
   ]
  },
  {
   "cell_type": "code",
   "execution_count": null,
   "id": "36f207f4",
   "metadata": {},
   "outputs": [],
   "source": [
    "# solving the system\n",
    "# particular solution for plotting using Q(0)=0 U(0)=1 \n",
    "sol2=dsolve_system(eqs, ics={Q_v(0): 0, U_v(0): 1})\n",
    "print(sol2)\n",
    "init_printing(2)\n",
    "sol2 # prints out the solution to the system\n"
   ]
  },
  {
   "cell_type": "markdown",
   "id": "9a372f4f",
   "metadata": {},
   "source": [
    "Question 4: Plotting the solutions in question 3\n"
   ]
  },
  {
   "cell_type": "code",
   "execution_count": null,
   "id": "52a450ff",
   "metadata": {
    "scrolled": false
   },
   "outputs": [],
   "source": [
    "# create a function that corresponds to a solution\n",
    "f_v=1 # since it is constant, choose 1 for plotting \n",
    "func_Q = lambdify(s, -(sin(s)),'numpy') \n",
    "func_U = lambdify(s, cos(s),'numpy')\n",
    "svals = np.arange(0,20,0.01)\n",
    "yvals_Q=func_Q(svals)\n",
    "yvals_U=func_U(svals)\n",
    "    \n",
    "    \n",
    "# make figure\n",
    "plt.plot(svals, yvals_Q)\n",
    "plt.plot(svals, yvals_U)\n",
    "plt.ylabel(\"Stokes parameters(erg $s^{−1}$ $cm^{−2}$ $Hz^{−1}$ $str^{−1}$)\",size=13)\n",
    "plt.xlabel(\"Path length(cm)\", size=13)\n",
    "plt.legend(['$Q_{v}(s)$', '$U_{v}(s)$' ], fontsize='13', loc= 'upper left')\n",
    "plt.savefig('PRTPLOT.pdf')\n",
    "plt.show()\n"
   ]
  },
  {
   "cell_type": "markdown",
   "id": "5dc5ebd9",
   "metadata": {},
   "source": [
    "Question 5: writing a function for Faraday rotation in the high frequency limit."
   ]
  },
  {
   "cell_type": "code",
   "execution_count": null,
   "id": "1e4bce51",
   "metadata": {},
   "outputs": [],
   "source": [
    "# defining a function for thermal electron faraday rotation\n",
    "def fth(v, n, B):\n",
    "    \"\"\"Function for faraday rotation with only thermal electrons present\n",
    "    \n",
    "    Parameters: \n",
    "    v-----frequency \n",
    "    n-----electron density\n",
    "    B-----magnetic feild strength\"\n",
    "     \n",
    "    Returns:\n",
    "    faraday rotation with only thermal electrons present\n",
    "    \"\"\"\n",
    "    # add units to the inputted values\n",
    "    B_G = B*u.G\n",
    "    v_Hz = v*u.s**-1\n",
    "    n=n*u.cm**-3\n",
    "\n",
    "    return (1/math.pi)*(((math.e)**3)/(((const.m_e.to(u.g))**2)*((const.c.to(u.cm/u.s))**4)))*n*B_G*(((const.c.to(u.cm/u.s))/v_Hz)**2)"
   ]
  },
  {
   "cell_type": "markdown",
   "id": "2a3e5819",
   "metadata": {},
   "source": [
    "Question 6: Evaluating Faraday Rotations at different frequencies. Since Bcostheta=1, B is the same as B along the line of sight. "
   ]
  },
  {
   "cell_type": "code",
   "execution_count": null,
   "id": "aad6ef95",
   "metadata": {},
   "outputs": [],
   "source": [
    "# ISM \n",
    "fth(700e6,1e-1,10e-6) #700 MHz\n"
   ]
  },
  {
   "cell_type": "code",
   "execution_count": null,
   "id": "a56d481b",
   "metadata": {},
   "outputs": [],
   "source": [
    "#ISM\n",
    "fth(1.4e9,1e-1,10e-6)#1.4GHz"
   ]
  },
  {
   "cell_type": "code",
   "execution_count": null,
   "id": "003a5a3f",
   "metadata": {},
   "outputs": [],
   "source": [
    "#ICM\n",
    "fth(700e6,1e-1,1e-6) #700 MHz"
   ]
  },
  {
   "cell_type": "code",
   "execution_count": null,
   "id": "996e1192",
   "metadata": {},
   "outputs": [],
   "source": [
    "#ICM\n",
    "fth(1.4e9,1e-3,1e-6) #1.4 GHz"
   ]
  },
  {
   "cell_type": "code",
   "execution_count": null,
   "id": "963cc79c",
   "metadata": {},
   "outputs": [],
   "source": [
    "#IGM\n",
    "fth(700e6,1e-7,1e-9) #700MHz"
   ]
  },
  {
   "cell_type": "code",
   "execution_count": null,
   "id": "6e7d5013",
   "metadata": {},
   "outputs": [],
   "source": [
    "fth(1.4e9,1e-7,1e-9) #1.4GHz"
   ]
  },
  {
   "cell_type": "code",
   "execution_count": null,
   "id": "53dc4d23",
   "metadata": {},
   "outputs": [],
   "source": [
    "# defining a function for thermal electron faraday conversion\n",
    "def hth(v, n, B):\n",
    "    \"\"\"Function for faraday rotation with only thermal electrons present\n",
    "    \n",
    "    Parameters: \n",
    "    v-----frequency \n",
    "    n-----electron density\n",
    "    B-----magnetic feild strength\"\n",
    "     \n",
    "    Returns:\n",
    "    faraday rotation with only thermal electrons present\n",
    "    \"\"\"\n",
    "    # add units to the inputted values\n",
    "    B_G = B*u.G\n",
    "    v_Hz = v*u.s**-1\n",
    "    n=n*u .cm**-3\n",
    "\n",
    "    return (1/(4*((math.pi)**2)))*(((math.e)**4)/(((const.m_e.to(u.g))**3)*((const.c.to(u.cm/u.s))**5)))*n*(B_G**2)*(((const.c.to(u.cm/u.s))/v_Hz)**3)"
   ]
  },
  {
   "cell_type": "markdown",
   "id": "321dad8b",
   "metadata": {},
   "source": [
    "Question 7- Evaluting Faraday conversion (assuming sintheta=1), B is perpendicular to line of sight"
   ]
  },
  {
   "cell_type": "code",
   "execution_count": null,
   "id": "f9d4b756",
   "metadata": {},
   "outputs": [],
   "source": [
    "# ISM \n",
    "hth(700e6,1e-1,10e-6) #700 MHz\n"
   ]
  },
  {
   "cell_type": "code",
   "execution_count": null,
   "id": "f734b057",
   "metadata": {},
   "outputs": [],
   "source": [
    "# ISM\n",
    "hth(1.4e9,1e-1,10e-6)#1.4GHz"
   ]
  },
  {
   "cell_type": "code",
   "execution_count": null,
   "id": "cb6f716e",
   "metadata": {},
   "outputs": [],
   "source": [
    "# ICM\n",
    "hth(700e6,1e-1,1e-6) #700 MHz\n"
   ]
  },
  {
   "cell_type": "code",
   "execution_count": null,
   "id": "b49691b4",
   "metadata": {},
   "outputs": [],
   "source": [
    "# ICM\n",
    "hth(1.4e9,1e-3,1e-6) #1.4 GHz"
   ]
  },
  {
   "cell_type": "code",
   "execution_count": null,
   "id": "1fd3d45e",
   "metadata": {},
   "outputs": [],
   "source": [
    "# IGM\n",
    "hth(700e6,1e-7,1e-9) #700MHz"
   ]
  },
  {
   "cell_type": "code",
   "execution_count": null,
   "id": "626f5667",
   "metadata": {},
   "outputs": [],
   "source": [
    "# IGM\n",
    "hth(1.4e9,1e-7,1e-9) #1.4GHz"
   ]
  },
  {
   "cell_type": "markdown",
   "id": "ccbabd1a",
   "metadata": {},
   "source": [
    "Question 8 is a response answer(see pdf). Question 9 is a derivation done by hand and put into Latex(see pdf)"
   ]
  },
  {
   "cell_type": "markdown",
   "id": "ac230715",
   "metadata": {},
   "source": [
    "Question 10- Visualizing Data from the Green Bank Telescope"
   ]
  },
  {
   "cell_type": "code",
   "execution_count": null,
   "id": "dbe19cea",
   "metadata": {},
   "outputs": [],
   "source": [
    "from astropy.io import fits # importing relavant packages to analyse the data\n",
    "from astropy.wcs import WCS\n",
    "from astropy.utils.data import get_pkg_data_filename\n"
   ]
  },
  {
   "cell_type": "code",
   "execution_count": null,
   "id": "2d9f7fab",
   "metadata": {},
   "outputs": [],
   "source": [
    "def plot_map(fn, s1, s2, s1_file, s2_file , clrlabel):\n",
    "    \"\"\"\n",
    "    Creates maps for the inputted Stokes Parameter\n",
    "    Parameters\n",
    "    fn-----the data file\n",
    "    s1-----the title(max)\n",
    "    s2-----the title(min)\n",
    "    s1_file---file name for max frequency\n",
    "    s2_file---file name for min frequency\n",
    "    clrlabel---title for color bar\n",
    "    \n",
    "    Returns:\n",
    "    Colormap for the inputted  parameter\n",
    "    \"\"\"\n",
    "    \n",
    "    f = fits.open(fn)\n",
    "    datacube=f[0].data\n",
    "\n",
    "    selfreqind = 0 \n",
    "    ax = plt.subplot(projection=wcs,  slices=('x', 'y', selfreqind ))\n",
    "    ax.coords[2].set_ticklabel(exclude_overlapping=True)\n",
    "    plt.title(s1)\n",
    "    im=ax.imshow(datacube[selfreqind , :, :], cmap='RdBu_r')\n",
    "    cbar = plt.colorbar(im)\n",
    "    cbar.set_label(clrlabel, size=13)\n",
    "    plt.savefig(s1_file)\n",
    "    plt.show()\n",
    "    \n",
    "    #min frequency map\n",
    "    selfreqind = -1\n",
    "    ax = plt.subplot(projection=wcs, slices=('y', 'x', selfreqind )) \n",
    "    ax.coords[2].set_ticklabel(exclude_overlapping=True)\n",
    "    plt.title(s2)\n",
    "    im=ax.imshow(datacube[selfreqind , :, :], cmap='RdBu_r')\n",
    "    cbar = plt.colorbar(im)\n",
    "    plt.savefig(s2_file)"
   ]
  },
  {
   "cell_type": "code",
   "execution_count": null,
   "id": "b7694c80",
   "metadata": {
    "scrolled": false
   },
   "outputs": [],
   "source": [
    "# intensity plots\n",
    "fn = get_pkg_data_filename('11hrCombinedCom20arcmin_I.fits') # open the data file\n",
    "f = fits.open(fn)\n",
    "wcs = WCS(f[0].header)\n",
    "test = wcs.pixel_to_world\n",
    "par1=\"Intensity map for maximum frequency\"\n",
    "par2=\"Intensity map for minimum frequency\"\n",
    "par1_file=\"Intensity map for maximum frequency.pdf\"\n",
    "par2_file=\"Intensity map for minimum frequency.pdf\"\n",
    "clr_lbl=\"I(erg $s^{−1}$ $cm^{−2}$ $Hz^{−1}$ $str^{−1}$)\"\n",
    "plot_map(fn, par1, par2, par1_file, par2_file,clr_lbl)\n"
   ]
  },
  {
   "cell_type": "code",
   "execution_count": null,
   "id": "2ed2f67f",
   "metadata": {},
   "outputs": [],
   "source": [
    "# making Q parameter maps\n",
    "fn_Q = get_pkg_data_filename('11hrCombinedCom20arcmin_Q_addedmeanQ.fits')\n",
    "f_Q= fits.open(fn_Q)\n",
    "wcs = WCS(f_Q[0].header)\n",
    "par1=\"Q map for maximum frequency\"\n",
    "par2=\"Q map for minimum frequency\"\n",
    "par1_file=\"Q map for maximum frequency.pdf\"\n",
    "par2_file=\"Q map for minimum frequency.pdf\"\n",
    "clr_lbl=\"Q(erg $s^{−1}$ $cm^{−2}$ $Hz^{−1}$ $str^{−1}$)\"\n",
    "plot_map(fn_Q, par1, par2, par1_file, par2_file,clr_lbl)\n"
   ]
  },
  {
   "cell_type": "code",
   "execution_count": null,
   "id": "ccc8ab6d",
   "metadata": {},
   "outputs": [],
   "source": [
    "# making U maps \n",
    "fn_U = get_pkg_data_filename('11hrCombinedCom20arcmin_U_addedmeanU.fits')\n",
    "f_U= fits.open(fn_U)\n",
    "wcs = WCS(f_U[0].header)\n",
    "par1=\"U map for maximum frequency\"\n",
    "par2=\"U map for minimum frequency\"\n",
    "par1_file=\"U map for maximum frequency.pdf\"\n",
    "par2_file=\"U map for minimum frequency.pdf\"\n",
    "clr_lbl=\"U(erg $s^{−1}$ $cm^{−2}$ $Hz^{−1}$ $str^{−1}$)\"\n",
    "plot_map(fn_U, par1, par2, par1_file, par2_file, clr_lbl)"
   ]
  },
  {
   "cell_type": "code",
   "execution_count": null,
   "id": "8e53f10e",
   "metadata": {},
   "outputs": [],
   "source": [
    "# making maps for  V\n",
    "fn_V = get_pkg_data_filename('11hrCombinedCom20arcmin_V.fits')\n",
    "f_V= fits.open(fn_V)\n",
    "wcs = WCS(f_U[0].header)\n",
    "par1=\"V map for maximum frequency\"\n",
    "par2=\"V map for minimum frequency\"\n",
    "par1_file=\"V map for maximum frequency.pdf\"\n",
    "par2_file=\"V map for minimum frequency.pdf\"\n",
    "clr_lbl=\"V(erg $s^{−1}$ $cm^{−2}$ $Hz^{−1}$ $str^{−1}$)\"\n",
    "plot_map(fn_V, par1, par2, par1_file, par2_file, clr_lbl)"
   ]
  },
  {
   "cell_type": "code",
   "execution_count": null,
   "id": "ff9ad025",
   "metadata": {},
   "outputs": [],
   "source": []
  },
  {
   "cell_type": "code",
   "execution_count": null,
   "id": "8c842ae6",
   "metadata": {},
   "outputs": [],
   "source": []
  },
  {
   "cell_type": "code",
   "execution_count": null,
   "id": "5d6db7f1",
   "metadata": {},
   "outputs": [],
   "source": []
  },
  {
   "cell_type": "code",
   "execution_count": null,
   "id": "dd0c3185",
   "metadata": {},
   "outputs": [],
   "source": []
  },
  {
   "cell_type": "code",
   "execution_count": null,
   "id": "b313948a",
   "metadata": {},
   "outputs": [],
   "source": []
  }
 ],
 "metadata": {
  "kernelspec": {
   "display_name": "Python 3 (ipykernel)",
   "language": "python",
   "name": "python3"
  },
  "language_info": {
   "codemirror_mode": {
    "name": "ipython",
    "version": 3
   },
   "file_extension": ".py",
   "mimetype": "text/x-python",
   "name": "python",
   "nbconvert_exporter": "python",
   "pygments_lexer": "ipython3",
   "version": "3.9.12"
  }
 },
 "nbformat": 4,
 "nbformat_minor": 5
}
