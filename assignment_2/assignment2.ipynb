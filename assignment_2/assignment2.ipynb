{
 "cells": [
  {
   "cell_type": "markdown",
   "id": "3a160674",
   "metadata": {},
   "source": [
    "Part 1) defining the function f and its derivative"
   ]
  },
  {
   "cell_type": "code",
   "execution_count": 103,
   "id": "204d28b9",
   "metadata": {},
   "outputs": [],
   "source": [
    "def f(x):\n",
    "    \"\"\"definines the function f\n",
    "    \"\"\"\n",
    "    return x**3 -x**2 -1\n",
    "def df(x):\n",
    "    \"\"\"defines its derivative\n",
    "    \"\"\"\n",
    "    return 3*(x**2) -2*x\n"
   ]
  },
  {
   "cell_type": "markdown",
   "id": "a11c0bd9",
   "metadata": {},
   "source": [
    "Part 2) defining the newton function"
   ]
  },
  {
   "cell_type": "code",
   "execution_count": 104,
   "id": "40783ecf",
   "metadata": {},
   "outputs": [],
   "source": [
    "def newton(f, df, x0, epsilon=1e-6, max_iter=30):\n",
    "    \"\"\"Runs through newton iteration\n",
    "    \"\"\"\n",
    "    x=[1]*100\n",
    "    x[0]=x0\n",
    "\n",
    "    for n in range(0, max_iter):\n",
    "        n = n+1\n",
    "        x[n] = x[n-1]-(f(x[n-1])/df(x[n-1]))\n",
    "        if(abs(f(x[n])<epsilon)):\n",
    "           print(\"Found root in\", n ,  \"iterations\")\n",
    "           return x[n]\n",
    "        \n",
    "        \n",
    "    print(\"Iteration failed\")\n",
    "    return \"None\"\n",
    "        \n",
    "        \n"
   ]
  },
  {
   "cell_type": "markdown",
   "id": "edf974a8",
   "metadata": {},
   "source": [
    "Part 3) Testing the newton iteration with the function in part 1)"
   ]
  },
  {
   "cell_type": "code",
   "execution_count": 105,
   "id": "2fcba473",
   "metadata": {},
   "outputs": [
    {
     "name": "stdout",
     "output_type": "stream",
     "text": [
      "Found root in 13 iterations\n"
     ]
    },
    {
     "data": {
      "text/plain": [
       "1.4655715090996266"
      ]
     },
     "execution_count": 105,
     "metadata": {},
     "output_type": "execute_result"
    }
   ],
   "source": [
    "#example 1\n",
    "newton(f, df, 60)"
   ]
  },
  {
   "cell_type": "code",
   "execution_count": 106,
   "id": "0afaf176",
   "metadata": {},
   "outputs": [
    {
     "name": "stdout",
     "output_type": "stream",
     "text": [
      "Iteration failed\n"
     ]
    },
    {
     "data": {
      "text/plain": [
       "'None'"
      ]
     },
     "execution_count": 106,
     "metadata": {},
     "output_type": "execute_result"
    }
   ],
   "source": [
    "#example 2\n",
    "newton(f, df, 100000)"
   ]
  },
  {
   "cell_type": "code",
   "execution_count": 107,
   "id": "23eb30c6",
   "metadata": {},
   "outputs": [
    {
     "name": "stdout",
     "output_type": "stream",
     "text": [
      "Found root in 14 iterations\n"
     ]
    },
    {
     "data": {
      "text/plain": [
       "1.4655712318768424"
      ]
     },
     "execution_count": 107,
     "metadata": {},
     "output_type": "execute_result"
    }
   ],
   "source": [
    "#reducing epsilon example 1\n",
    "newton(f, df, 60, 1E-8)\n"
   ]
  },
  {
   "cell_type": "markdown",
   "id": "11f92c7e",
   "metadata": {},
   "source": [
    "In example 1 the amount of iterations increased by one."
   ]
  },
  {
   "cell_type": "code",
   "execution_count": 101,
   "id": "d108c12e",
   "metadata": {},
   "outputs": [
    {
     "name": "stdout",
     "output_type": "stream",
     "text": [
      "Iteration failed\n"
     ]
    },
    {
     "data": {
      "text/plain": [
       "'None'"
      ]
     },
     "execution_count": 101,
     "metadata": {},
     "output_type": "execute_result"
    }
   ],
   "source": [
    "#changing epsilon example 2\n",
    "newton(f, df, 100000, 1E-8)"
   ]
  },
  {
   "cell_type": "markdown",
   "id": "efcc75a7",
   "metadata": {},
   "source": [
    "In example 2 the iteration failed both times. "
   ]
  }
 ],
 "metadata": {
  "kernelspec": {
   "display_name": "Python 3 (ipykernel)",
   "language": "python",
   "name": "python3"
  },
  "language_info": {
   "codemirror_mode": {
    "name": "ipython",
    "version": 3
   },
   "file_extension": ".py",
   "mimetype": "text/x-python",
   "name": "python",
   "nbconvert_exporter": "python",
   "pygments_lexer": "ipython3",
   "version": "3.9.12"
  }
 },
 "nbformat": 4,
 "nbformat_minor": 5
}
