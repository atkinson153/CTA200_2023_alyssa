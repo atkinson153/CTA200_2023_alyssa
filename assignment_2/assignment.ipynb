{
 "cells": [
  {
   "cell_type": "markdown",
   "id": "3a160674",
   "metadata": {},
   "source": [
    "Part 1) defining the functions"
   ]
  },
  {
   "cell_type": "code",
   "execution_count": 75,
   "id": "204d28b9",
   "metadata": {},
   "outputs": [
    {
     "name": "stdout",
     "output_type": "stream",
     "text": [
      "17 21\n"
     ]
    }
   ],
   "source": [
    "def f(x):\n",
    "    \"\"\"definines the first function\n",
    "    \"\"\"\n",
    "    return x**3 -x**2 -1\n",
    "def df(x):\n",
    "    \"\"\"defines the function of the derivative\n",
    "    \"\"\"\n",
    "    return 3*(x**2) -2*x\n",
    "\n",
    "print(f(3), df(3))"
   ]
  },
  {
   "cell_type": "markdown",
   "id": "a11c0bd9",
   "metadata": {},
   "source": [
    "Part 2) defining the newton function"
   ]
  },
  {
   "cell_type": "code",
   "execution_count": 76,
   "id": "40783ecf",
   "metadata": {},
   "outputs": [],
   "source": [
    "def newton(f, df, x0, epsilon=1e-6, max_iter=30):\n",
    "    \"\"\"Runs through newton iteration\n",
    "    \"\"\"\n",
    "    x=[1]*100\n",
    "    x[0]=x0\n",
    "\n",
    "    for n in range(0, max_iter):\n",
    "        n = n+1\n",
    "        x[n] = x[n-1]-(f(x[n-1])/df(x[n-1]))\n",
    "        if(abs(f(x[n])<epsilon)):\n",
    "           print(\"Found root in\", n ,  \"iterations\")\n",
    "           return x[n]\n",
    "        \n",
    "        \n",
    "    print(\"Iteration failed\")\n",
    "    return \"None\"\n",
    "        \n",
    "        \n"
   ]
  },
  {
   "cell_type": "markdown",
   "id": "edf974a8",
   "metadata": {},
   "source": [
    "Part 3) Testing the newton iteration with the function in part 1)"
   ]
  },
  {
   "cell_type": "code",
   "execution_count": 84,
   "id": "2fcba473",
   "metadata": {},
   "outputs": [
    {
     "name": "stdout",
     "output_type": "stream",
     "text": [
      "Found root in 6 iterations\n"
     ]
    },
    {
     "data": {
      "text/plain": [
       "1.4655712318902172"
      ]
     },
     "execution_count": 84,
     "metadata": {},
     "output_type": "execute_result"
    }
   ],
   "source": [
    "#example 1\n",
    "newton(f, df, 3)"
   ]
  },
  {
   "cell_type": "code",
   "execution_count": 85,
   "id": "0afaf176",
   "metadata": {},
   "outputs": [
    {
     "name": "stdout",
     "output_type": "stream",
     "text": [
      "Found root in 12 iterations\n"
     ]
    },
    {
     "data": {
      "text/plain": [
       "1.465571489475598"
      ]
     },
     "execution_count": 85,
     "metadata": {},
     "output_type": "execute_result"
    }
   ],
   "source": [
    "#example 2\n",
    "newton(f, df, 40)"
   ]
  },
  {
   "cell_type": "code",
   "execution_count": 88,
   "id": "23eb30c6",
   "metadata": {},
   "outputs": [
    {
     "name": "stdout",
     "output_type": "stream",
     "text": [
      "Found root in 6 iterations\n",
      "Found root in 13 iterations\n"
     ]
    },
    {
     "data": {
      "text/plain": [
       "1.4655712318768321"
      ]
     },
     "execution_count": 88,
     "metadata": {},
     "output_type": "execute_result"
    }
   ],
   "source": [
    "#reducing epsilon example 1\n",
    "newton(f, df, 3, 1E-8)\n"
   ]
  },
  {
   "cell_type": "markdown",
   "id": "11f92c7e",
   "metadata": {},
   "source": [
    "In example 1 the amount of iterations stayed the same."
   ]
  },
  {
   "cell_type": "code",
   "execution_count": 89,
   "id": "d108c12e",
   "metadata": {},
   "outputs": [
    {
     "name": "stdout",
     "output_type": "stream",
     "text": [
      "Found root in 13 iterations\n"
     ]
    },
    {
     "data": {
      "text/plain": [
       "1.4655712318768321"
      ]
     },
     "execution_count": 89,
     "metadata": {},
     "output_type": "execute_result"
    }
   ],
   "source": [
    "#changing epsilon example 2\n",
    "newton(f, df, 40, 1E-8)"
   ]
  },
  {
   "cell_type": "markdown",
   "id": "efcc75a7",
   "metadata": {},
   "source": [
    "In example 2 the amount of iterations increased by 1."
   ]
  }
 ],
 "metadata": {
  "kernelspec": {
   "display_name": "Python 3 (ipykernel)",
   "language": "python",
   "name": "python3"
  },
  "language_info": {
   "codemirror_mode": {
    "name": "ipython",
    "version": 3
   },
   "file_extension": ".py",
   "mimetype": "text/x-python",
   "name": "python",
   "nbconvert_exporter": "python",
   "pygments_lexer": "ipython3",
   "version": "3.9.12"
  }
 },
 "nbformat": 4,
 "nbformat_minor": 5
}
