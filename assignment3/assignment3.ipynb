{
 "cells": [
  {
   "cell_type": "code",
   "execution_count": null,
   "id": "f20990ed",
   "metadata": {},
   "outputs": [],
   "source": [
    "import numpy as np\n",
    "import matplotlib.pyplot as plt\n",
    "import math\n",
    "\n"
   ]
  },
  {
   "cell_type": "markdown",
   "id": "a83b7259",
   "metadata": {},
   "source": [
    "Question 1) Complex number iteration"
   ]
  },
  {
   "cell_type": "code",
   "execution_count": null,
   "id": "8d8c111e",
   "metadata": {},
   "outputs": [],
   "source": [
    "x_array = np.linspace(-2, 2,1000) \n",
    "y_array = np.linspace(-2, 2,1000)\n",
    "\n",
    "c_array = x_array[np.newaxis, :] + y_array[:, np.newaxis]*1j #creating complex plane\n",
    "\n"
   ]
  },
  {
   "cell_type": "code",
   "execution_count": null,
   "id": "bad80066",
   "metadata": {},
   "outputs": [],
   "source": [
    "def iterate(c_arr, index):\n",
    "    \"\"\"iterate the mandelbrot map\n",
    "    \n",
    "    Inputs:\n",
    "    c_arr------array-like, coordinates of a pt in the complex plane \n",
    "    \n",
    "    index----number of iterations\n",
    "    \n",
    "    Returns:\n",
    "    Iteration at which the point is beyond the critcal limit\n",
    "    \"\"\"\n",
    "    \n",
    "    z=0\n",
    "    for i in range(index):\n",
    "        z = z*z +c_arr\n",
    "    return np.isnan(abs(z))==False, np.isnan(abs(z))== True #boolean numpy arrays "
   ]
  },
  {
   "cell_type": "code",
   "execution_count": null,
   "id": "50fed290",
   "metadata": {
    "scrolled": false
   },
   "outputs": [],
   "source": [
    "div_coord=iterate(c_array,20)[1]\n",
    "div=c_array[div_coord]\n",
    "conv_coord=iterate(c_array,20)[0]\n",
    "conv=c_array[conv_coord]\n",
    "plt.scatter(np.real(div), np.imag(div)) #plots the first image \n",
    "plt.scatter(np.real(conv), np.imag(conv))\n"
   ]
  },
  {
   "cell_type": "code",
   "execution_count": null,
   "id": "81592b42",
   "metadata": {
    "scrolled": false
   },
   "outputs": [],
   "source": [
    "plt.scatter(np.real(div), np.imag(div),  c= div) #plots the second\n",
    "plt.scatter(np.real(conv), np.imag(conv), c='black')"
   ]
  },
  {
   "cell_type": "markdown",
   "id": "ca4cff74",
   "metadata": {},
   "source": [
    "\n",
    "\n",
    "Question 2) Lorenz Equations"
   ]
  },
  {
   "cell_type": "code",
   "execution_count": null,
   "id": "4a016c75",
   "metadata": {},
   "outputs": [],
   "source": [
    "from scipy.integrate import solve_ivp"
   ]
  },
  {
   "cell_type": "markdown",
   "id": "da2163e9",
   "metadata": {},
   "source": [
    "Part 1) and 2) defining the system of equations and solving the system "
   ]
  },
  {
   "cell_type": "code",
   "execution_count": null,
   "id": "25d73380",
   "metadata": {
    "scrolled": false
   },
   "outputs": [],
   "source": [
    "def lorenz(t,y):\n",
    "# defining the Lorenz equation\n",
    "    \"\"\"defines the lorenz functions\n",
    "    Parameters:\n",
    "    t: time\n",
    "    y: initial conditions\n",
    "    sigma= Prantdl number\n",
    "    r: Rayleigh number\n",
    "    b: dimensionless length scale\n",
    "    \"\"\"\n",
    "    \n",
    "    X, Y, Z = y\n",
    "    fX= -(10)*(X-Y)\n",
    "    fY= 28*X - Y -(X*Z)\n",
    "    fZ= -(8./3.)*Z + X*Y\n",
    "    return fX,fY,fZ\n",
    "\n",
    "#solving the system of ODEs\n",
    "\n",
    "sol =solve_ivp ( lorenz,(0,60), (0., 1., 0.), t_eval=np.linspace(0, 30, 3000)) #for fig 1\n",
    "X, Y, Z= sol.y\n",
    "\n",
    "sol2=solve_ivp ( lorenz,(0,60), (0., 1., 0.), t_eval=np.linspace(14, 19, 1000)) #for fig 2\n",
    "X2, Y2, Z2= sol2.y\n",
    "\n"
   ]
  },
  {
   "cell_type": "raw",
   "id": "1c404a3a",
   "metadata": {},
   "source": [
    "Part 3) and 4) Recreating Lorenz Figure 1 and 2"
   ]
  },
  {
   "cell_type": "code",
   "execution_count": null,
   "id": "ded81b9b",
   "metadata": {
    "scrolled": false
   },
   "outputs": [],
   "source": [
    "#plotting figure 2\n",
    "\n",
    "tplot=sol.t/0.01\n",
    "\n",
    "plt.figure(figsize=(9,3))\n",
    "plt.plot(tplot[0:1000], Y[0:1000])\n",
    "plt.ylabel('y amplitude')\n",
    "plt.xlabel(\"t/Δt\")\n",
    "plt.show()\n",
    "\n",
    "plt.figure(figsize=(9,3))\n",
    "plt.plot(tplot[1000:2000], Y[1000:2000])\n",
    "plt.ylabel('y amplitude')\n",
    "plt.xlabel(\"t/Δt\")\n",
    "plt.show()\n",
    "\n",
    "\n",
    "plt.figure(figsize=(9,3))\n",
    "plt.plot(tplot[2000:3000], Y[2000:3000])\n",
    "plt.ylabel('y amplitude')\n",
    "plt.xlabel(\"t/Δt\")\n",
    "plt.show()\n",
    "\n"
   ]
  },
  {
   "cell_type": "code",
   "execution_count": null,
   "id": "9d26ad1d",
   "metadata": {
    "scrolled": false
   },
   "outputs": [],
   "source": [
    "\n",
    "fig1 = plt.figure(figsize=(5,4))\n",
    "plt.plot(Y2, Z2)\n",
    "plt.ylabel('Z amplitude')\n",
    "plt.xlabel(\"Y amplitude\")\n",
    "plt.show()\n",
    "\n",
    "fig2 = plt.figure(figsize=(5,4))\n",
    "plt.plot(Y2, X2)\n",
    "plt.ylabel('X amplitude')\n",
    "plt.xlabel(\"Y amplitude\")\n",
    "plt.gca().invert_yaxis()\n",
    "\n",
    "plt.show()\n"
   ]
  },
  {
   "cell_type": "markdown",
   "id": "715c55dc",
   "metadata": {},
   "source": [
    "Part 5) Changing initial conditions and plotting distance vs time"
   ]
  },
  {
   "cell_type": "code",
   "execution_count": null,
   "id": "45ee7e0a",
   "metadata": {},
   "outputs": [],
   "source": [
    "#calculating the new initial condition\n",
    "increment=(0, 1E-8, 0)\n",
    "prev_cond=(0, 1, 0)\n",
    "newcondition= (increment[0]+prev_cond[0],increment[1]+prev_cond[2],increment[2]+prev_cond[2])\n",
    "#solving the equations with this new conditon\n",
    "sol3 =solve_ivp ( lorenz,(0,60), newcondition , t_eval=np.linspace(0, 30, 3000)) \n",
    "X3, Y3, Z3= sol3.y\n",
    "\n",
    "\n",
    "\n",
    "\n",
    "diff=[]\n",
    "subtracted=[]\n",
    "for i in range(0,3000):\n",
    "    s1=(X[i],Y[i],Z[i])\n",
    "    s3=(X3[i],Y3[i],Z3[i])\n",
    "    subtracted.append((X[i]-X3[i], Y[i]-Y3[i], Z[i]-Z3[i] ))\n",
    "\n",
    "for i in range(0,3000):\n",
    "    diff.append(np.linalg.norm(subtracted[i]))   \n",
    "\n",
    "\n",
    "plt.plot(sol.t, diff)\n",
    "plt.yscale(\"log\")\n",
    "plt.ylabel('log distance')\n",
    "plt.xlabel(\"time\")\n"
   ]
  },
  {
   "cell_type": "code",
   "execution_count": null,
   "id": "e91474b0",
   "metadata": {},
   "outputs": [],
   "source": []
  },
  {
   "cell_type": "code",
   "execution_count": null,
   "id": "6f11511d",
   "metadata": {},
   "outputs": [],
   "source": []
  },
  {
   "cell_type": "code",
   "execution_count": null,
   "id": "133aa2b9",
   "metadata": {},
   "outputs": [],
   "source": []
  },
  {
   "cell_type": "code",
   "execution_count": null,
   "id": "a2107c3c",
   "metadata": {},
   "outputs": [],
   "source": []
  }
 ],
 "metadata": {
  "kernelspec": {
   "display_name": "Python 3 (ipykernel)",
   "language": "python",
   "name": "python3"
  },
  "language_info": {
   "codemirror_mode": {
    "name": "ipython",
    "version": 3
   },
   "file_extension": ".py",
   "mimetype": "text/x-python",
   "name": "python",
   "nbconvert_exporter": "python",
   "pygments_lexer": "ipython3",
   "version": "3.9.12"
  }
 },
 "nbformat": 4,
 "nbformat_minor": 5
}
